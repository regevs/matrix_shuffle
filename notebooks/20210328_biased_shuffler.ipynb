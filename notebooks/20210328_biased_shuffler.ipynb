{
 "cells": [
  {
   "cell_type": "code",
   "execution_count": 1,
   "id": "running-exchange",
   "metadata": {},
   "outputs": [],
   "source": [
    "import numpy as np\n",
    "import seaborn as sns\n",
    "import pandas as pd\n",
    "import matplotlib.pyplot as plt\n",
    "\n",
    "import os.path\n",
    "import multiset\n",
    "import random\n",
    "import scipy.stats\n",
    "\n",
    "import tqdm.notebook\n",
    "import collections\n",
    "import sortedcontainers\n",
    "\n",
    "from statsmodels.distributions.empirical_distribution import ECDF"
   ]
  },
  {
   "cell_type": "code",
   "execution_count": 2,
   "id": "brief-correspondence",
   "metadata": {},
   "outputs": [],
   "source": [
    "orig_points = pd.read_csv(\"/Users/regevschweiger/Documents/matshuff_data/ela_19/points.txt\", sep=\"\\s+\")\n",
    "counts = pd.read_csv(\"/Users/regevschweiger/Documents/matshuff_data/ela_19/counts.txt\", sep=\"\\s+\")\n",
    "min_dist = counts.value.iloc[1]"
   ]
  },
  {
   "cell_type": "code",
   "execution_count": 3,
   "id": "unavailable-lesbian",
   "metadata": {},
   "outputs": [
    {
     "data": {
      "text/plain": [
       "Text(0, 0.5, 'Count')"
      ]
     },
     "execution_count": 3,
     "metadata": {},
     "output_type": "execute_result"
    },
    {
     "data": {
      "image/png": "[encoded data removed]",
      "text/plain": [
       "<Figure size 720x432 with 1 Axes>"
      ]
     },
     "metadata": {
      "needs_background": "light"
     },
     "output_type": "display_data"
    }
   ],
   "source": [
    "plt.figure(figsize=(10,6))\n",
    "plt.plot(\n",
    "    counts.value,\n",
    "    counts.p,\n",
    "    '.',\n",
    "    ms=2\n",
    ")\n",
    "plt.xscale(\"log\")\n",
    "plt.yscale(\"log\")\n",
    "plt.xlabel(\"Coordinate\")\n",
    "plt.ylabel(\"Count\")"
   ]
  },
  {
   "cell_type": "code",
   "execution_count": null,
   "id": "correct-twins",
   "metadata": {},
   "outputs": [],
   "source": [
    "# class CoordinateMapper(object):\n",
    "#     def __init__(self, points):\n",
    "#         # List of all current coords        \n",
    "#         self.coords = points.ravel()\n",
    "#         self.max = self.coords.max()\n",
    "                \n",
    "#         # Inverse multimap\n",
    "#         self.inverse_map = [[] for i in tqdm.notebook.trange(self.max+1)]\n",
    "#         for i, coord in enumerate(tqdm.notebook.tqdm(self.coords)):\n",
    "#             self.inverse_map[coord].append(i)\n",
    "        \n",
    "#         # Pointers to next larger\n",
    "#         self.next_larger = np.zeros(self.max+1, dtype=int)\n",
    "#         last = -1\n",
    "#         for i in tqdm.notebook.trange(self.max, -1, -1):\n",
    "#             if len(self.inverse_map[i]) == 0:\n",
    "#                 self.next_larger[i] = last\n",
    "#             else:\n",
    "#                 self.next_larger[i] = i\n",
    "#                 last = i\n",
    "                \n",
    "#         # Pointers to next smaller\n",
    "#         self.next_smaller = np.zeros(self.max+1, dtype=int)\n",
    "#         last = -1\n",
    "#         for i in tqdm.notebook.trange(self.max+1):\n",
    "#             if len(self.inverse_map[i]) == 0:\n",
    "#                 self.next_smaller[i] = last\n",
    "#             else:\n",
    "#                 self.next_smaller[i] = i\n",
    "#                 last = i\n",
    "    \n",
    "#     def sample_coordinate(self):\n",
    "#         return random.choice(self.coords)\n",
    "    \n",
    "#     def remove(self, coordinate):\n",
    "#         # Update inverse map and coords\n",
    "#         assert len(self.inverse_map[coordinate]) > 0\n",
    "#         pos = self.inverse_map[coordinate].pop()\n",
    "        \n",
    "#         if pos == len(self.coords)-1:\n",
    "#             self.coords = self.coords[:-1]\n",
    "#         else:\n",
    "#             lst = self.inverse_map[self.coords[-1]]\n",
    "#             lst.pop(lst.index(len(self.coords)-1))\n",
    "#             lst.append(pos)\n",
    "            \n",
    "#             self.coords[pos] = self.coords[-1]\n",
    "#             self.coords = self.coords[:-1]\n",
    "            \n",
    "#         # Update next larger and next smaller\n",
    "#         if len(self.inverse_map[coordinate]) == 0:\n",
    "#             # Next larger\n",
    "#             if coordinate+1 <= self.max:\n",
    "#                 next_ptr = self.next_larger[coordinate+1]\n",
    "#             else:\n",
    "#                 next_ptr = -1\n",
    "            \n",
    "#             pos = coordinate\n",
    "#             while pos >= 0 and self.next_larger[pos] == coordinate:\n",
    "#                 self.next_larger[pos] = next_ptr\n",
    "#                 pos -= 1\n",
    "                \n",
    "#             # Next smaller\n",
    "#             if coordinate-1 >= 0:\n",
    "#                 next_ptr = self.next_smaller[coordinate-1]\n",
    "#             else:\n",
    "#                 next_ptr = -1\n",
    "            \n",
    "#             pos = coordinate\n",
    "#             while pos <= self.max and self.next_smaller[pos] == coordinate:\n",
    "#                 self.next_smaller[pos] = next_ptr\n",
    "#                 pos += 1\n",
    "            \n",
    "    \n",
    "#     def get_next_larger(self, position):\n",
    "#         return self.next_larger[position]\n",
    "    \n",
    "#     def get_next_smaller(self, position):\n",
    "#         return self.next_smaller[position]"
   ]
  },
  {
   "cell_type": "code",
   "execution_count": 4,
   "id": "decreased-sequence",
   "metadata": {},
   "outputs": [],
   "source": [
    "class SortedCoordinateMapper(object):\n",
    "    def __init__(self, points):\n",
    "        self.max = np.array(points).max()        \n",
    "        self.coords = sortedcontainers.SortedList(np.array(points).ravel())\n",
    "        self.n_coords = len(self.coords)\n",
    "    \n",
    "    def sample_coordinate(self):\n",
    "        return self.coords[np.random.choice(len(self.coords))]\n",
    "    \n",
    "    def remove(self, coordinate):\n",
    "        self.coords.remove(coordinate)\n",
    "    \n",
    "    def get_next_larger(self, position):\n",
    "        x = self.coords.bisect_left(position)\n",
    "        if x == len(self.coords):\n",
    "            return -1\n",
    "        else:\n",
    "            return self.coords[x]\n",
    "    \n",
    "    def get_next_smaller(self, position):\n",
    "        x = self.coords.bisect_right(position)\n",
    "        if x == 0:\n",
    "            return -1\n",
    "        else:\n",
    "            return self.coords[x-1]\n",
    "    \n",
    "# small_points = (orig_points.values).astype(int)\n",
    "# CM = SortedCoordinateMapper(small_points)"
   ]
  },
  {
   "cell_type": "code",
   "execution_count": 45,
   "id": "electronic-stretch",
   "metadata": {},
   "outputs": [],
   "source": [
    "class DiagonalSampler(object):\n",
    "    def __init__(self, points, min_dist, mapper_type=SortedCoordinateMapper):\n",
    "        self.n_points = points.shape[0]\n",
    "        self.diagonals = np.sort(np.abs(np.diff(points, axis=1)).astype(int).ravel())\n",
    "        self.mapper = mapper_type(points.astype(int))\n",
    "        self.max = self.mapper.max\n",
    "        self.min_dist = min_dist\n",
    "        \n",
    "    def build(self, diagonal_in_order=False, greedy_small=False):\n",
    "        new_points = []\n",
    "        \n",
    "        for n_point in tqdm.notebook.trange(self.n_points):            \n",
    "            best_y = np.inf\n",
    "            \n",
    "            while True:\n",
    "                x = self.mapper.sample_coordinate()\n",
    "                \n",
    "                if diagonal_in_order:\n",
    "                    d = self.diagonals[n_point]\n",
    "                elif greedy_small:\n",
    "                    d = self.min_dist\n",
    "                else:\n",
    "                    d = random.choice(self.diagonals)\n",
    "\n",
    "\n",
    "\n",
    "                candidates = []\n",
    "                if x+d <= self.max:\n",
    "                    candidates.extend([self.mapper.get_next_larger(x+d), self.mapper.get_next_smaller(x+d)])\n",
    "                else:\n",
    "                    candidates.append(self.mapper.get_next_smaller(self.max+1))\n",
    "                if 0<= x-d:\n",
    "                    candidates.extend([self.mapper.get_next_larger(x-d), self.mapper.get_next_smaller(x-d)])\n",
    "                else:\n",
    "                    candidates.append(self.mapper.get_next_larger(-1))\n",
    "\n",
    "                random.shuffle(candidates)\n",
    "\n",
    "                for y in candidates:\n",
    "                    if y != -1 and \\\n",
    "                        y != x and \\\n",
    "                        np.abs(np.abs(y-x)-d) < np.abs(np.abs(best_y-x)-d):\n",
    "                        best_y = y\n",
    "\n",
    "                if best_y != np.inf:\n",
    "                    break\n",
    "                    \n",
    "            assert best_y in self.mapper.coords\n",
    "            new_points.append(list(sorted([x, best_y])))\n",
    "            self.mapper.remove(x)\n",
    "            self.mapper.remove(best_y)\n",
    "            \n",
    "        self.new_points = np.array(new_points)\n",
    "    \n",
    "    def fix(self):\n",
    "        for n_point in tqdm.notebook.trange(self.n_points):\n",
    "            while np.abs(self.new_points[n_point, 1] - self.new_points[n_point, 0]) < self.min_dist:\n",
    "                j = np.random.choice(self.n_points)\n",
    "                if np.abs(self.new_points[n_point, 0] - self.new_points[j, 1]) >= self.min_dist and \\\n",
    "                    np.abs(self.new_points[n_point, 1] - self.new_points[j, 0]) >= self.min_dist:\n",
    "                    self.new_points[n_point, 1], self.new_points[j, 1] = self.new_points[j, 1], self.new_points[n_point, 1]\n",
    "\n",
    "\n",
    "        \n",
    "    \n",
    "    \n",
    "    \n"
   ]
  },
  {
   "cell_type": "code",
   "execution_count": 28,
   "id": "german-mortgage",
   "metadata": {},
   "outputs": [
    {
     "data": {
      "application/vnd.jupyter.widget-view+json": {
       "model_id": "a43509a195964d4c85df0824690eb507",
       "version_major": 2,
       "version_minor": 0
      },
      "text/plain": [
       "  0%|          | 0/5018224 [00:00<?, ?it/s]"
      ]
     },
     "metadata": {},
     "output_type": "display_data"
    },
    {
     "data": {
      "application/vnd.jupyter.widget-view+json": {
       "model_id": "3bdef8f7566543ab8830ea327efb70ac",
       "version_major": 2,
       "version_minor": 0
      },
      "text/plain": [
       "  0%|          | 0/5018224 [00:00<?, ?it/s]"
      ]
     },
     "metadata": {},
     "output_type": "display_data"
    }
   ],
   "source": [
    "small_points = (orig_points.values[:, :]).astype(int)\n",
    "DS = DiagonalSampler(small_points, 1024)\n",
    "\n",
    "DS.build(diagonal_in_order=False, greedy_small=True)\n",
    "DS.fix()"
   ]
  },
  {
   "cell_type": "code",
   "execution_count": 32,
   "id": "prospective-marker",
   "metadata": {},
   "outputs": [
    {
     "data": {
      "text/plain": [
       "1024"
      ]
     },
     "execution_count": 32,
     "metadata": {},
     "output_type": "execute_result"
    }
   ],
   "source": [
    "np.abs(np.diff(DS.new_points, axis=1)).min()"
   ]
  },
  {
   "cell_type": "code",
   "execution_count": 33,
   "id": "composed-given",
   "metadata": {},
   "outputs": [
    {
     "data": {
      "text/plain": [
       "True"
      ]
     },
     "execution_count": 33,
     "metadata": {},
     "output_type": "execute_result"
    }
   ],
   "source": [
    "collections.Counter(np.array(DS.new_points).ravel()) == collections.Counter(np.array(small_points).ravel())"
   ]
  },
  {
   "cell_type": "code",
   "execution_count": 34,
   "id": "neither-vancouver",
   "metadata": {},
   "outputs": [
    {
     "data": {
      "text/plain": [
       "<matplotlib.legend.Legend at 0x1751757f0>"
      ]
     },
     "execution_count": 34,
     "metadata": {},
     "output_type": "execute_result"
    },
    {
     "data": {
      "image/png": "[encoded data removed]",
      "text/plain": [
       "<Figure size 720x432 with 1 Axes>"
      ]
     },
     "metadata": {
      "needs_background": "light"
     },
     "output_type": "display_data"
    }
   ],
   "source": [
    "plt.figure(figsize=(10,6))\n",
    "plt.plot(\n",
    "    counts.value[:-1],\n",
    "    np.histogram(np.abs(np.diff(small_points, axis=1).ravel()), bins=counts.value, density=True)[0],\n",
    "    '.',\n",
    "    ms=2,\n",
    "    label=\"True counts\"\n",
    ")\n",
    "\n",
    "plt.plot(\n",
    "    counts.value[:-1],\n",
    "    np.histogram(np.abs(np.diff(DS.new_points, axis=1).ravel()), bins=counts.value, density=True)[0],\n",
    "    '.',\n",
    "    ms=2,\n",
    "    label=\"Shuffled counts\"\n",
    ")\n",
    "\n",
    "plt.xscale(\"log\")\n",
    "plt.yscale(\"log\")\n",
    "plt.xlabel(\"Coordinate\")\n",
    "plt.ylabel(\"Count\")\n",
    "plt.legend()"
   ]
  },
  {
   "cell_type": "code",
   "execution_count": 35,
   "id": "dirty-breach",
   "metadata": {},
   "outputs": [],
   "source": [
    "pd.DataFrame(DS.new_points, columns=[\"start1\", \"start2\"])\\\n",
    "    .to_csv(\"/Users/regevschweiger/Documents/matshuff_data/ela_19/points_magic_shuffled_20210511_greedy_small.txt\", sep=\"\\t\", index=False)"
   ]
  },
  {
   "cell_type": "code",
   "execution_count": 12,
   "id": "therapeutic-second",
   "metadata": {},
   "outputs": [],
   "source": []
  },
  {
   "cell_type": "code",
   "execution_count": 38,
   "id": "soviet-mainland",
   "metadata": {},
   "outputs": [],
   "source": [
    "from math import ceil, log2\n",
    "\n",
    "\"\"\"\n",
    "van Emde Boas Tree is a data structure which gives O(log(log(u))\n",
    "query time for operations like \n",
    "insert, search, delete, successor and predecessor\n",
    "VEB class contains attribute\n",
    "min, max, u, w, cluster and summary\n",
    "initially min=max=NULL\n",
    "u = size of universe (the range of total possible entries)\n",
    "w = word length (number of bits in u)\n",
    "w = log2(u)\n",
    "cluster is an array of VEB structures of size of sqrt(u)\n",
    "summary is a VEB of size sqrt(u)\n",
    "when the size of VEB structure reaches we don't store clusters and summary vector\n",
    "min and max are enough to store this structure.\n",
    "\"\"\"\n",
    "\n",
    "\n",
    "class VEB:\n",
    "    \"\"\"Index of x can be determined as the\n",
    "    cluster number and the position inside the cluster\n",
    "    for example lets consider 11\n",
    "    in binary it is written as 1011\n",
    "    so first half parts of the binary strinig give cluster number\n",
    "    and 2nd half gives the postiton inside cluster\n",
    "    cluster number= int(10)= 2\n",
    "    position inside cluster= int(11)=3\n",
    "    so 11 is in 2nd cluster at 3rd position\n",
    "    where counting starts from 0th position\n",
    "    0,1,2,3|4,5,6,7|8,9,10,11|12,13,14,15\n",
    "                           ^\n",
    "    here we use 'c' to denote cluster number\n",
    "    and 'i' to denote index inside the cluster\n",
    "    so x can be represented as <c,i>\n",
    "    where x = c * sqrt(u) + i\n",
    "    \"\"\"\n",
    "\n",
    "    def high(self, x):\n",
    "        # high(x)=x//int(sqrt(u))\n",
    "        return x >> (self.w // 2)\n",
    "\n",
    "    def low(self, x):\n",
    "        # low(x)= x%int(sqrt(u))\n",
    "        return x & (1 << (self.w // 2)) - 1\n",
    "\n",
    "    def index(self, i, j):\n",
    "        # return i*int(sqrt(self.u))+j\n",
    "        return i << (self.w // 2) | j\n",
    "\n",
    "    def __init__(self, u):\n",
    "        \"\"\"\n",
    "        This have been implemented using hash table\n",
    "        to reduce the space complexity from O(U) to O(n*log(log(u))\n",
    "        because u can be very large. for example if word size = 64 bits\n",
    "        u= 2^64 = 16 million TB which can't be stored practically on ram.\n",
    "        where as n*log*log*u can be O(3n) which can be easily stored.\n",
    "        I have a different code for array implementation too.\n",
    "        \"\"\"\n",
    "\n",
    "        self.w = ceil(log2(u))\n",
    "        # self.u = 2 ** self.w\n",
    "        self.min = self.max = None\n",
    "\n",
    "        if self.w >= 1:  # when u==2^w=2 min and max are enough so we stop recursion\n",
    "            self.cluster = {}\n",
    "            self.summary = None\n",
    "\n",
    "    def member(self, x):\n",
    "        \"\"\"Function to check if x is present in tree or not.\"\"\"\n",
    "        if x == self.min or x == self.max:\n",
    "            return True\n",
    "        elif self.w == 1:\n",
    "            return False\n",
    "        else:\n",
    "            c = self.high(x)\n",
    "            i = self.low(x)\n",
    "            if c in self.cluster:\n",
    "                return self.cluster[c].member(i)\n",
    "            else:\n",
    "                return False\n",
    "\n",
    "    def insert(self, x):\n",
    "        if self.min is None:\n",
    "            self.min = x\n",
    "            self.max = x\n",
    "            return\n",
    "        else:\n",
    "            if x < self.min:\n",
    "                x, self.min = self.min, x\n",
    "            c = self.high(x)\n",
    "            i = self.low(x)\n",
    "            if self.w > 1:\n",
    "                if c not in self.cluster:\n",
    "                    self.cluster[c] = VEB(2 ** (self.w // 2))\n",
    "                if self.cluster[c].min is None:\n",
    "                    if self.summary is None:\n",
    "                        self.summary = VEB(2 ** (self.w // 2))\n",
    "                    self.summary.insert(c)\n",
    "                if c not in self.cluster:\n",
    "                    self.cluster[c] = VEB(2 ** (self.w // 2))\n",
    "                self.cluster[c].insert(i)\n",
    "            if x > self.max:\n",
    "                self.max = x\n",
    "\n",
    "    def successor(self, x):\n",
    "        if self.w == 1:\n",
    "            if x == 0 and self.max == 1:\n",
    "                return 1\n",
    "            else:\n",
    "                return None\n",
    "        elif self.min is not None and x < self.min:\n",
    "            return self.min\n",
    "        else:\n",
    "            c = self.high(x)\n",
    "            i = self.low(x)\n",
    "            if c in self.cluster:\n",
    "                maxlow = self.cluster[c].max\n",
    "            else:\n",
    "                maxlow = None\n",
    "            if maxlow is not None and i < maxlow:\n",
    "                offset = self.cluster[c].successor(i)\n",
    "                return self.index(c, offset)\n",
    "            else:\n",
    "                if self.summary is not None:\n",
    "                    succ_cluster = self.summary.successor(self.high(x))\n",
    "                else:\n",
    "                    succ_cluster = None\n",
    "                if succ_cluster is None:\n",
    "                    return None\n",
    "                else:\n",
    "                    offset = self.cluster[succ_cluster].min\n",
    "                    return self.index(succ_cluster, offset)\n",
    "\n",
    "    def predecessor(self, x):\n",
    "        if self.w == 1:\n",
    "            if x == 1 and self.min == 0:\n",
    "                return 0\n",
    "            else:\n",
    "                return None\n",
    "        elif self.max is not None and x > self.max:\n",
    "            return self.max\n",
    "        else:\n",
    "            c = self.high(x)\n",
    "            i = self.low(x)\n",
    "            if c in self.cluster:\n",
    "                min_low = self.cluster[c].min\n",
    "            else:\n",
    "                min_low = None\n",
    "            if min_low is not None and i > min_low:\n",
    "                offset = self.cluster[c].predecessor(i)\n",
    "                return self.index(c, offset)\n",
    "            else:\n",
    "                if self.summary is not None:\n",
    "                    prev_cluster = self.summary.predecessor(c)\n",
    "                else:\n",
    "                    prev_cluster = None\n",
    "                if prev_cluster is None:\n",
    "                    if self.min is not None and x > self.min:\n",
    "                        return self.min\n",
    "                    else:\n",
    "                        return None\n",
    "                else:\n",
    "                    offset = self.cluster[prev_cluster].max\n",
    "                    return self.index(prev_cluster, offset)\n",
    "\n",
    "    def delete(self, x):\n",
    "        if self.min is None:\n",
    "            return\n",
    "        if x < self.min or x > self.max:\n",
    "            return\n",
    "        if self.min == self.max:\n",
    "            self.min = self.max = None\n",
    "        elif self.w == 1:\n",
    "            if x == 0:\n",
    "                self.min = 1\n",
    "            else:\n",
    "                self.min = 0\n",
    "            self.max = self.min\n",
    "        else:\n",
    "            c = self.high(x)\n",
    "            i = self.low(x)\n",
    "            if x == self.min:\n",
    "                if self.summary:\n",
    "                    first_cluster = self.summary.min\n",
    "                else:\n",
    "                    first_cluster = None\n",
    "                if first_cluster:\n",
    "                    x = self.index(first_cluster, self.cluster[first_cluster].min)\n",
    "                    self.min = x\n",
    "            if c in self.cluster:\n",
    "                self.cluster[c].delete(i)\n",
    "                if self.cluster[c].min is None:\n",
    "                    self.summary.delete(c)\n",
    "                if x == self.max:\n",
    "                    summary_max = self.summary.max\n",
    "                    if summary_max is None:\n",
    "                        self.max = self.min\n",
    "                    else:\n",
    "                        self.max = self.index(summary_max, self.cluster[summary_max].max)\n",
    "            elif x == self.max:\n",
    "                self.max = self.index(c, self.cluster[c].max)\n",
    "                \n",
    "              "
   ]
  },
  {
   "cell_type": "code",
   "execution_count": 48,
   "id": "special-transfer",
   "metadata": {},
   "outputs": [],
   "source": [
    "class VEBCoordinateMapper(object):\n",
    "    def __init__(self, points):\n",
    "        self.max = np.array(points).max()      \n",
    "        \n",
    "        self.coords = sortedcontainers.SortedList(np.array(points).ravel())\n",
    "        self.veb = VEB(self.max+1)\n",
    "        for coord in tqdm.notebook.tqdm(self.coords):\n",
    "            self.veb.insert(coord)\n",
    "        \n",
    "        self.n_coords = len(self.coords)\n",
    "    \n",
    "    def sample_coordinate(self):\n",
    "        return self.coords[np.random.choice(len(self.coords))]\n",
    "    \n",
    "    def remove(self, coordinate):\n",
    "        self.coords.remove(coordinate)\n",
    "        self.veb.delete(coordinate)\n",
    "    \n",
    "    def get_next_larger(self, position):\n",
    "        #x = self.coords.bisect_left(position)\n",
    "        x = self.veb.successor(position)\n",
    "        if x == None:\n",
    "            return -1\n",
    "        else:\n",
    "            return x\n",
    "    \n",
    "    def get_next_smaller(self, position):\n",
    "        x = self.veb.predecessor(position)\n",
    "        if x == None:\n",
    "            return -1\n",
    "        else:\n",
    "            return x\n",
    "    \n",
    "# small_points = (orig_points.values).astype(int)\n",
    "# CM = SortedCoordinateMapper(small_points)"
   ]
  },
  {
   "cell_type": "code",
   "execution_count": 49,
   "id": "suspected-guidance",
   "metadata": {},
   "outputs": [
    {
     "data": {
      "application/vnd.jupyter.widget-view+json": {
       "model_id": "2ec5f72bae9f4ec6abc0745ef09bfa3e",
       "version_major": 2,
       "version_minor": 0
      },
      "text/plain": [
       "  0%|          | 0/10036448 [00:00<?, ?it/s]"
      ]
     },
     "metadata": {},
     "output_type": "display_data"
    },
    {
     "data": {
      "application/vnd.jupyter.widget-view+json": {
       "model_id": "e1f71f0ec4be438d8a37c3599f1541f9",
       "version_major": 2,
       "version_minor": 0
      },
      "text/plain": [
       "  0%|          | 0/5018224 [00:00<?, ?it/s]"
      ]
     },
     "metadata": {},
     "output_type": "display_data"
    },
    {
     "ename": "TypeError",
     "evalue": "unsupported operand type(s) for |: 'int' and 'NoneType'",
     "output_type": "error",
     "traceback": [
      "\u001b[0;31m---------------------------------------------------------------------------\u001b[0m",
      "\u001b[0;31mTypeError\u001b[0m                                 Traceback (most recent call last)",
      "\u001b[0;32m<ipython-input-49-e2f277e599e2>\u001b[0m in \u001b[0;36m<module>\u001b[0;34m\u001b[0m\n\u001b[1;32m      3\u001b[0m \u001b[0mDS\u001b[0m \u001b[0;34m=\u001b[0m \u001b[0mDiagonalSampler\u001b[0m\u001b[0;34m(\u001b[0m\u001b[0msmall_points\u001b[0m\u001b[0;34m,\u001b[0m \u001b[0;36m1024\u001b[0m\u001b[0;34m,\u001b[0m \u001b[0mmapper_type\u001b[0m\u001b[0;34m=\u001b[0m\u001b[0mVEBCoordinateMapper\u001b[0m\u001b[0;34m)\u001b[0m\u001b[0;34m\u001b[0m\u001b[0;34m\u001b[0m\u001b[0m\n\u001b[1;32m      4\u001b[0m \u001b[0;34m\u001b[0m\u001b[0m\n\u001b[0;32m----> 5\u001b[0;31m \u001b[0mDS\u001b[0m\u001b[0;34m.\u001b[0m\u001b[0mbuild\u001b[0m\u001b[0;34m(\u001b[0m\u001b[0mdiagonal_in_order\u001b[0m\u001b[0;34m=\u001b[0m\u001b[0;32mFalse\u001b[0m\u001b[0;34m,\u001b[0m \u001b[0mgreedy_small\u001b[0m\u001b[0;34m=\u001b[0m\u001b[0;32mFalse\u001b[0m\u001b[0;34m)\u001b[0m\u001b[0;34m\u001b[0m\u001b[0;34m\u001b[0m\u001b[0m\n\u001b[0m\u001b[1;32m      6\u001b[0m \u001b[0mDS\u001b[0m\u001b[0;34m.\u001b[0m\u001b[0mfix\u001b[0m\u001b[0;34m(\u001b[0m\u001b[0;34m)\u001b[0m\u001b[0;34m\u001b[0m\u001b[0;34m\u001b[0m\u001b[0m\n",
      "\u001b[0;32m<ipython-input-45-8b4edf3fbfbb>\u001b[0m in \u001b[0;36mbuild\u001b[0;34m(self, diagonal_in_order, greedy_small)\u001b[0m\n\u001b[1;32m     27\u001b[0m                 \u001b[0mcandidates\u001b[0m \u001b[0;34m=\u001b[0m \u001b[0;34m[\u001b[0m\u001b[0;34m]\u001b[0m\u001b[0;34m\u001b[0m\u001b[0;34m\u001b[0m\u001b[0m\n\u001b[1;32m     28\u001b[0m                 \u001b[0;32mif\u001b[0m \u001b[0mx\u001b[0m\u001b[0;34m+\u001b[0m\u001b[0md\u001b[0m \u001b[0;34m<=\u001b[0m \u001b[0mself\u001b[0m\u001b[0;34m.\u001b[0m\u001b[0mmax\u001b[0m\u001b[0;34m:\u001b[0m\u001b[0;34m\u001b[0m\u001b[0;34m\u001b[0m\u001b[0m\n\u001b[0;32m---> 29\u001b[0;31m                     \u001b[0mcandidates\u001b[0m\u001b[0;34m.\u001b[0m\u001b[0mextend\u001b[0m\u001b[0;34m(\u001b[0m\u001b[0;34m[\u001b[0m\u001b[0mself\u001b[0m\u001b[0;34m.\u001b[0m\u001b[0mmapper\u001b[0m\u001b[0;34m.\u001b[0m\u001b[0mget_next_larger\u001b[0m\u001b[0;34m(\u001b[0m\u001b[0mx\u001b[0m\u001b[0;34m+\u001b[0m\u001b[0md\u001b[0m\u001b[0;34m)\u001b[0m\u001b[0;34m,\u001b[0m \u001b[0mself\u001b[0m\u001b[0;34m.\u001b[0m\u001b[0mmapper\u001b[0m\u001b[0;34m.\u001b[0m\u001b[0mget_next_smaller\u001b[0m\u001b[0;34m(\u001b[0m\u001b[0mx\u001b[0m\u001b[0;34m+\u001b[0m\u001b[0md\u001b[0m\u001b[0;34m)\u001b[0m\u001b[0;34m]\u001b[0m\u001b[0;34m)\u001b[0m\u001b[0;34m\u001b[0m\u001b[0;34m\u001b[0m\u001b[0m\n\u001b[0m\u001b[1;32m     30\u001b[0m                 \u001b[0;32melse\u001b[0m\u001b[0;34m:\u001b[0m\u001b[0;34m\u001b[0m\u001b[0;34m\u001b[0m\u001b[0m\n\u001b[1;32m     31\u001b[0m                     \u001b[0mcandidates\u001b[0m\u001b[0;34m.\u001b[0m\u001b[0mappend\u001b[0m\u001b[0;34m(\u001b[0m\u001b[0mself\u001b[0m\u001b[0;34m.\u001b[0m\u001b[0mmapper\u001b[0m\u001b[0;34m.\u001b[0m\u001b[0mget_next_smaller\u001b[0m\u001b[0;34m(\u001b[0m\u001b[0mself\u001b[0m\u001b[0;34m.\u001b[0m\u001b[0mmax\u001b[0m\u001b[0;34m+\u001b[0m\u001b[0;36m1\u001b[0m\u001b[0;34m)\u001b[0m\u001b[0;34m)\u001b[0m\u001b[0;34m\u001b[0m\u001b[0;34m\u001b[0m\u001b[0m\n",
      "\u001b[0;32m<ipython-input-48-df2d7bc66f9e>\u001b[0m in \u001b[0;36mget_next_larger\u001b[0;34m(self, position)\u001b[0m\n\u001b[1;32m     19\u001b[0m     \u001b[0;32mdef\u001b[0m \u001b[0mget_next_larger\u001b[0m\u001b[0;34m(\u001b[0m\u001b[0mself\u001b[0m\u001b[0;34m,\u001b[0m \u001b[0mposition\u001b[0m\u001b[0;34m)\u001b[0m\u001b[0;34m:\u001b[0m\u001b[0;34m\u001b[0m\u001b[0;34m\u001b[0m\u001b[0m\n\u001b[1;32m     20\u001b[0m         \u001b[0;31m#x = self.coords.bisect_left(position)\u001b[0m\u001b[0;34m\u001b[0m\u001b[0;34m\u001b[0m\u001b[0;34m\u001b[0m\u001b[0m\n\u001b[0;32m---> 21\u001b[0;31m         \u001b[0mx\u001b[0m \u001b[0;34m=\u001b[0m \u001b[0mself\u001b[0m\u001b[0;34m.\u001b[0m\u001b[0mveb\u001b[0m\u001b[0;34m.\u001b[0m\u001b[0msuccessor\u001b[0m\u001b[0;34m(\u001b[0m\u001b[0mposition\u001b[0m\u001b[0;34m)\u001b[0m\u001b[0;34m\u001b[0m\u001b[0;34m\u001b[0m\u001b[0m\n\u001b[0m\u001b[1;32m     22\u001b[0m         \u001b[0;32mif\u001b[0m \u001b[0mx\u001b[0m \u001b[0;34m==\u001b[0m \u001b[0;32mNone\u001b[0m\u001b[0;34m:\u001b[0m\u001b[0;34m\u001b[0m\u001b[0;34m\u001b[0m\u001b[0m\n\u001b[1;32m     23\u001b[0m             \u001b[0;32mreturn\u001b[0m \u001b[0;34m-\u001b[0m\u001b[0;36m1\u001b[0m\u001b[0;34m\u001b[0m\u001b[0;34m\u001b[0m\u001b[0m\n",
      "\u001b[0;32m<ipython-input-38-dbf2bf9c9b12>\u001b[0m in \u001b[0;36msuccessor\u001b[0;34m(self, x)\u001b[0m\n\u001b[1;32m    120\u001b[0m                 \u001b[0mmaxlow\u001b[0m \u001b[0;34m=\u001b[0m \u001b[0;32mNone\u001b[0m\u001b[0;34m\u001b[0m\u001b[0;34m\u001b[0m\u001b[0m\n\u001b[1;32m    121\u001b[0m             \u001b[0;32mif\u001b[0m \u001b[0mmaxlow\u001b[0m \u001b[0;32mis\u001b[0m \u001b[0;32mnot\u001b[0m \u001b[0;32mNone\u001b[0m \u001b[0;32mand\u001b[0m \u001b[0mi\u001b[0m \u001b[0;34m<\u001b[0m \u001b[0mmaxlow\u001b[0m\u001b[0;34m:\u001b[0m\u001b[0;34m\u001b[0m\u001b[0;34m\u001b[0m\u001b[0m\n\u001b[0;32m--> 122\u001b[0;31m                 \u001b[0moffset\u001b[0m \u001b[0;34m=\u001b[0m \u001b[0mself\u001b[0m\u001b[0;34m.\u001b[0m\u001b[0mcluster\u001b[0m\u001b[0;34m[\u001b[0m\u001b[0mc\u001b[0m\u001b[0;34m]\u001b[0m\u001b[0;34m.\u001b[0m\u001b[0msuccessor\u001b[0m\u001b[0;34m(\u001b[0m\u001b[0mi\u001b[0m\u001b[0;34m)\u001b[0m\u001b[0;34m\u001b[0m\u001b[0;34m\u001b[0m\u001b[0m\n\u001b[0m\u001b[1;32m    123\u001b[0m                 \u001b[0;32mreturn\u001b[0m \u001b[0mself\u001b[0m\u001b[0;34m.\u001b[0m\u001b[0mindex\u001b[0m\u001b[0;34m(\u001b[0m\u001b[0mc\u001b[0m\u001b[0;34m,\u001b[0m \u001b[0moffset\u001b[0m\u001b[0;34m)\u001b[0m\u001b[0;34m\u001b[0m\u001b[0;34m\u001b[0m\u001b[0m\n\u001b[1;32m    124\u001b[0m             \u001b[0;32melse\u001b[0m\u001b[0;34m:\u001b[0m\u001b[0;34m\u001b[0m\u001b[0;34m\u001b[0m\u001b[0m\n",
      "\u001b[0;32m<ipython-input-38-dbf2bf9c9b12>\u001b[0m in \u001b[0;36msuccessor\u001b[0;34m(self, x)\u001b[0m\n\u001b[1;32m    124\u001b[0m             \u001b[0;32melse\u001b[0m\u001b[0;34m:\u001b[0m\u001b[0;34m\u001b[0m\u001b[0;34m\u001b[0m\u001b[0m\n\u001b[1;32m    125\u001b[0m                 \u001b[0;32mif\u001b[0m \u001b[0mself\u001b[0m\u001b[0;34m.\u001b[0m\u001b[0msummary\u001b[0m \u001b[0;32mis\u001b[0m \u001b[0;32mnot\u001b[0m \u001b[0;32mNone\u001b[0m\u001b[0;34m:\u001b[0m\u001b[0;34m\u001b[0m\u001b[0;34m\u001b[0m\u001b[0m\n\u001b[0;32m--> 126\u001b[0;31m                     \u001b[0msucc_cluster\u001b[0m \u001b[0;34m=\u001b[0m \u001b[0mself\u001b[0m\u001b[0;34m.\u001b[0m\u001b[0msummary\u001b[0m\u001b[0;34m.\u001b[0m\u001b[0msuccessor\u001b[0m\u001b[0;34m(\u001b[0m\u001b[0mself\u001b[0m\u001b[0;34m.\u001b[0m\u001b[0mhigh\u001b[0m\u001b[0;34m(\u001b[0m\u001b[0mx\u001b[0m\u001b[0;34m)\u001b[0m\u001b[0;34m)\u001b[0m\u001b[0;34m\u001b[0m\u001b[0;34m\u001b[0m\u001b[0m\n\u001b[0m\u001b[1;32m    127\u001b[0m                 \u001b[0;32melse\u001b[0m\u001b[0;34m:\u001b[0m\u001b[0;34m\u001b[0m\u001b[0;34m\u001b[0m\u001b[0m\n\u001b[1;32m    128\u001b[0m                     \u001b[0msucc_cluster\u001b[0m \u001b[0;34m=\u001b[0m \u001b[0;32mNone\u001b[0m\u001b[0;34m\u001b[0m\u001b[0;34m\u001b[0m\u001b[0m\n",
      "\u001b[0;32m<ipython-input-38-dbf2bf9c9b12>\u001b[0m in \u001b[0;36msuccessor\u001b[0;34m(self, x)\u001b[0m\n\u001b[1;32m    121\u001b[0m             \u001b[0;32mif\u001b[0m \u001b[0mmaxlow\u001b[0m \u001b[0;32mis\u001b[0m \u001b[0;32mnot\u001b[0m \u001b[0;32mNone\u001b[0m \u001b[0;32mand\u001b[0m \u001b[0mi\u001b[0m \u001b[0;34m<\u001b[0m \u001b[0mmaxlow\u001b[0m\u001b[0;34m:\u001b[0m\u001b[0;34m\u001b[0m\u001b[0;34m\u001b[0m\u001b[0m\n\u001b[1;32m    122\u001b[0m                 \u001b[0moffset\u001b[0m \u001b[0;34m=\u001b[0m \u001b[0mself\u001b[0m\u001b[0;34m.\u001b[0m\u001b[0mcluster\u001b[0m\u001b[0;34m[\u001b[0m\u001b[0mc\u001b[0m\u001b[0;34m]\u001b[0m\u001b[0;34m.\u001b[0m\u001b[0msuccessor\u001b[0m\u001b[0;34m(\u001b[0m\u001b[0mi\u001b[0m\u001b[0;34m)\u001b[0m\u001b[0;34m\u001b[0m\u001b[0;34m\u001b[0m\u001b[0m\n\u001b[0;32m--> 123\u001b[0;31m                 \u001b[0;32mreturn\u001b[0m \u001b[0mself\u001b[0m\u001b[0;34m.\u001b[0m\u001b[0mindex\u001b[0m\u001b[0;34m(\u001b[0m\u001b[0mc\u001b[0m\u001b[0;34m,\u001b[0m \u001b[0moffset\u001b[0m\u001b[0;34m)\u001b[0m\u001b[0;34m\u001b[0m\u001b[0;34m\u001b[0m\u001b[0m\n\u001b[0m\u001b[1;32m    124\u001b[0m             \u001b[0;32melse\u001b[0m\u001b[0;34m:\u001b[0m\u001b[0;34m\u001b[0m\u001b[0;34m\u001b[0m\u001b[0m\n\u001b[1;32m    125\u001b[0m                 \u001b[0;32mif\u001b[0m \u001b[0mself\u001b[0m\u001b[0;34m.\u001b[0m\u001b[0msummary\u001b[0m \u001b[0;32mis\u001b[0m \u001b[0;32mnot\u001b[0m \u001b[0;32mNone\u001b[0m\u001b[0;34m:\u001b[0m\u001b[0;34m\u001b[0m\u001b[0;34m\u001b[0m\u001b[0m\n",
      "\u001b[0;32m<ipython-input-38-dbf2bf9c9b12>\u001b[0m in \u001b[0;36mindex\u001b[0;34m(self, i, j)\u001b[0m\n\u001b[1;32m     47\u001b[0m     \u001b[0;32mdef\u001b[0m \u001b[0mindex\u001b[0m\u001b[0;34m(\u001b[0m\u001b[0mself\u001b[0m\u001b[0;34m,\u001b[0m \u001b[0mi\u001b[0m\u001b[0;34m,\u001b[0m \u001b[0mj\u001b[0m\u001b[0;34m)\u001b[0m\u001b[0;34m:\u001b[0m\u001b[0;34m\u001b[0m\u001b[0;34m\u001b[0m\u001b[0m\n\u001b[1;32m     48\u001b[0m         \u001b[0;31m# return i*int(sqrt(self.u))+j\u001b[0m\u001b[0;34m\u001b[0m\u001b[0;34m\u001b[0m\u001b[0;34m\u001b[0m\u001b[0m\n\u001b[0;32m---> 49\u001b[0;31m         \u001b[0;32mreturn\u001b[0m \u001b[0mi\u001b[0m \u001b[0;34m<<\u001b[0m \u001b[0;34m(\u001b[0m\u001b[0mself\u001b[0m\u001b[0;34m.\u001b[0m\u001b[0mw\u001b[0m \u001b[0;34m//\u001b[0m \u001b[0;36m2\u001b[0m\u001b[0;34m)\u001b[0m \u001b[0;34m|\u001b[0m \u001b[0mj\u001b[0m\u001b[0;34m\u001b[0m\u001b[0;34m\u001b[0m\u001b[0m\n\u001b[0m\u001b[1;32m     50\u001b[0m \u001b[0;34m\u001b[0m\u001b[0m\n\u001b[1;32m     51\u001b[0m     \u001b[0;32mdef\u001b[0m \u001b[0m__init__\u001b[0m\u001b[0;34m(\u001b[0m\u001b[0mself\u001b[0m\u001b[0;34m,\u001b[0m \u001b[0mu\u001b[0m\u001b[0;34m)\u001b[0m\u001b[0;34m:\u001b[0m\u001b[0;34m\u001b[0m\u001b[0;34m\u001b[0m\u001b[0m\n",
      "\u001b[0;31mTypeError\u001b[0m: unsupported operand type(s) for |: 'int' and 'NoneType'"
     ]
    }
   ],
   "source": [
    "small_points = (orig_points.values).astype(int)\n",
    "\n",
    "DS = DiagonalSampler(small_points, 1024, mapper_type=VEBCoordinateMapper)\n",
    "\n",
    "DS.build(diagonal_in_order=False, greedy_small=False)\n",
    "DS.fix()"
   ]
  },
  {
   "cell_type": "code",
   "execution_count": 50,
   "id": "arranged-airplane",
   "metadata": {},
   "outputs": [
    {
     "name": "stdout",
     "output_type": "stream",
     "text": [
      "> \u001b[0;32m<ipython-input-38-dbf2bf9c9b12>\u001b[0m(49)\u001b[0;36mindex\u001b[0;34m()\u001b[0m\n",
      "\u001b[0;32m     47 \u001b[0;31m    \u001b[0;32mdef\u001b[0m \u001b[0mindex\u001b[0m\u001b[0;34m(\u001b[0m\u001b[0mself\u001b[0m\u001b[0;34m,\u001b[0m \u001b[0mi\u001b[0m\u001b[0;34m,\u001b[0m \u001b[0mj\u001b[0m\u001b[0;34m)\u001b[0m\u001b[0;34m:\u001b[0m\u001b[0;34m\u001b[0m\u001b[0;34m\u001b[0m\u001b[0m\n",
      "\u001b[0m\u001b[0;32m     48 \u001b[0;31m        \u001b[0;31m# return i*int(sqrt(self.u))+j\u001b[0m\u001b[0;34m\u001b[0m\u001b[0;34m\u001b[0m\u001b[0;34m\u001b[0m\u001b[0m\n",
      "\u001b[0m\u001b[0;32m---> 49 \u001b[0;31m        \u001b[0;32mreturn\u001b[0m \u001b[0mi\u001b[0m \u001b[0;34m<<\u001b[0m \u001b[0;34m(\u001b[0m\u001b[0mself\u001b[0m\u001b[0;34m.\u001b[0m\u001b[0mw\u001b[0m \u001b[0;34m//\u001b[0m \u001b[0;36m2\u001b[0m\u001b[0;34m)\u001b[0m \u001b[0;34m|\u001b[0m \u001b[0mj\u001b[0m\u001b[0;34m\u001b[0m\u001b[0;34m\u001b[0m\u001b[0m\n",
      "\u001b[0m\u001b[0;32m     50 \u001b[0;31m\u001b[0;34m\u001b[0m\u001b[0m\n",
      "\u001b[0m\u001b[0;32m     51 \u001b[0;31m    \u001b[0;32mdef\u001b[0m \u001b[0m__init__\u001b[0m\u001b[0;34m(\u001b[0m\u001b[0mself\u001b[0m\u001b[0;34m,\u001b[0m \u001b[0mu\u001b[0m\u001b[0;34m)\u001b[0m\u001b[0;34m:\u001b[0m\u001b[0;34m\u001b[0m\u001b[0;34m\u001b[0m\u001b[0m\n",
      "\u001b[0m\n",
      "ipdb> p i,j\n",
      "(15, None)\n",
      "ipdb> u\n",
      "> \u001b[0;32m<ipython-input-38-dbf2bf9c9b12>\u001b[0m(123)\u001b[0;36msuccessor\u001b[0;34m()\u001b[0m\n",
      "\u001b[0;32m    121 \u001b[0;31m            \u001b[0;32mif\u001b[0m \u001b[0mmaxlow\u001b[0m \u001b[0;32mis\u001b[0m \u001b[0;32mnot\u001b[0m \u001b[0;32mNone\u001b[0m \u001b[0;32mand\u001b[0m \u001b[0mi\u001b[0m \u001b[0;34m<\u001b[0m \u001b[0mmaxlow\u001b[0m\u001b[0;34m:\u001b[0m\u001b[0;34m\u001b[0m\u001b[0;34m\u001b[0m\u001b[0m\n",
      "\u001b[0m\u001b[0;32m    122 \u001b[0;31m                \u001b[0moffset\u001b[0m \u001b[0;34m=\u001b[0m \u001b[0mself\u001b[0m\u001b[0;34m.\u001b[0m\u001b[0mcluster\u001b[0m\u001b[0;34m[\u001b[0m\u001b[0mc\u001b[0m\u001b[0;34m]\u001b[0m\u001b[0;34m.\u001b[0m\u001b[0msuccessor\u001b[0m\u001b[0;34m(\u001b[0m\u001b[0mi\u001b[0m\u001b[0;34m)\u001b[0m\u001b[0;34m\u001b[0m\u001b[0;34m\u001b[0m\u001b[0m\n",
      "\u001b[0m\u001b[0;32m--> 123 \u001b[0;31m                \u001b[0;32mreturn\u001b[0m \u001b[0mself\u001b[0m\u001b[0;34m.\u001b[0m\u001b[0mindex\u001b[0m\u001b[0;34m(\u001b[0m\u001b[0mc\u001b[0m\u001b[0;34m,\u001b[0m \u001b[0moffset\u001b[0m\u001b[0;34m)\u001b[0m\u001b[0;34m\u001b[0m\u001b[0;34m\u001b[0m\u001b[0m\n",
      "\u001b[0m\u001b[0;32m    124 \u001b[0;31m            \u001b[0;32melse\u001b[0m\u001b[0;34m:\u001b[0m\u001b[0;34m\u001b[0m\u001b[0;34m\u001b[0m\u001b[0m\n",
      "\u001b[0m\u001b[0;32m    125 \u001b[0;31m                \u001b[0;32mif\u001b[0m \u001b[0mself\u001b[0m\u001b[0;34m.\u001b[0m\u001b[0msummary\u001b[0m \u001b[0;32mis\u001b[0m \u001b[0;32mnot\u001b[0m \u001b[0;32mNone\u001b[0m\u001b[0;34m:\u001b[0m\u001b[0;34m\u001b[0m\u001b[0;34m\u001b[0m\u001b[0m\n",
      "\u001b[0m\n",
      "ipdb> p c, offset\n",
      "(15, None)\n",
      "ipdb> u\n",
      "> \u001b[0;32m<ipython-input-38-dbf2bf9c9b12>\u001b[0m(126)\u001b[0;36msuccessor\u001b[0;34m()\u001b[0m\n",
      "\u001b[0;32m    124 \u001b[0;31m            \u001b[0;32melse\u001b[0m\u001b[0;34m:\u001b[0m\u001b[0;34m\u001b[0m\u001b[0;34m\u001b[0m\u001b[0m\n",
      "\u001b[0m\u001b[0;32m    125 \u001b[0;31m                \u001b[0;32mif\u001b[0m \u001b[0mself\u001b[0m\u001b[0;34m.\u001b[0m\u001b[0msummary\u001b[0m \u001b[0;32mis\u001b[0m \u001b[0;32mnot\u001b[0m \u001b[0;32mNone\u001b[0m\u001b[0;34m:\u001b[0m\u001b[0;34m\u001b[0m\u001b[0;34m\u001b[0m\u001b[0m\n",
      "\u001b[0m\u001b[0;32m--> 126 \u001b[0;31m                    \u001b[0msucc_cluster\u001b[0m \u001b[0;34m=\u001b[0m \u001b[0mself\u001b[0m\u001b[0;34m.\u001b[0m\u001b[0msummary\u001b[0m\u001b[0;34m.\u001b[0m\u001b[0msuccessor\u001b[0m\u001b[0;34m(\u001b[0m\u001b[0mself\u001b[0m\u001b[0;34m.\u001b[0m\u001b[0mhigh\u001b[0m\u001b[0;34m(\u001b[0m\u001b[0mx\u001b[0m\u001b[0;34m)\u001b[0m\u001b[0;34m)\u001b[0m\u001b[0;34m\u001b[0m\u001b[0;34m\u001b[0m\u001b[0m\n",
      "\u001b[0m\u001b[0;32m    127 \u001b[0;31m                \u001b[0;32melse\u001b[0m\u001b[0;34m:\u001b[0m\u001b[0;34m\u001b[0m\u001b[0;34m\u001b[0m\u001b[0m\n",
      "\u001b[0m\u001b[0;32m    128 \u001b[0;31m                    \u001b[0msucc_cluster\u001b[0m \u001b[0;34m=\u001b[0m \u001b[0;32mNone\u001b[0m\u001b[0;34m\u001b[0m\u001b[0;34m\u001b[0m\u001b[0m\n",
      "\u001b[0m\n",
      "ipdb> p x\n",
      "7829\n",
      "ipdb> p self.high(x)\n",
      "122\n",
      "ipdb> u\n",
      "> \u001b[0;32m<ipython-input-38-dbf2bf9c9b12>\u001b[0m(122)\u001b[0;36msuccessor\u001b[0;34m()\u001b[0m\n",
      "\u001b[0;32m    120 \u001b[0;31m                \u001b[0mmaxlow\u001b[0m \u001b[0;34m=\u001b[0m \u001b[0;32mNone\u001b[0m\u001b[0;34m\u001b[0m\u001b[0;34m\u001b[0m\u001b[0m\n",
      "\u001b[0m\u001b[0;32m    121 \u001b[0;31m            \u001b[0;32mif\u001b[0m \u001b[0mmaxlow\u001b[0m \u001b[0;32mis\u001b[0m \u001b[0;32mnot\u001b[0m \u001b[0;32mNone\u001b[0m \u001b[0;32mand\u001b[0m \u001b[0mi\u001b[0m \u001b[0;34m<\u001b[0m \u001b[0mmaxlow\u001b[0m\u001b[0;34m:\u001b[0m\u001b[0;34m\u001b[0m\u001b[0;34m\u001b[0m\u001b[0m\n",
      "\u001b[0m\u001b[0;32m--> 122 \u001b[0;31m                \u001b[0moffset\u001b[0m \u001b[0;34m=\u001b[0m \u001b[0mself\u001b[0m\u001b[0;34m.\u001b[0m\u001b[0mcluster\u001b[0m\u001b[0;34m[\u001b[0m\u001b[0mc\u001b[0m\u001b[0;34m]\u001b[0m\u001b[0;34m.\u001b[0m\u001b[0msuccessor\u001b[0m\u001b[0;34m(\u001b[0m\u001b[0mi\u001b[0m\u001b[0;34m)\u001b[0m\u001b[0;34m\u001b[0m\u001b[0;34m\u001b[0m\u001b[0m\n",
      "\u001b[0m\u001b[0;32m    123 \u001b[0;31m                \u001b[0;32mreturn\u001b[0m \u001b[0mself\u001b[0m\u001b[0;34m.\u001b[0m\u001b[0mindex\u001b[0m\u001b[0;34m(\u001b[0m\u001b[0mc\u001b[0m\u001b[0;34m,\u001b[0m \u001b[0moffset\u001b[0m\u001b[0;34m)\u001b[0m\u001b[0;34m\u001b[0m\u001b[0;34m\u001b[0m\u001b[0m\n",
      "\u001b[0m\u001b[0;32m    124 \u001b[0;31m            \u001b[0;32melse\u001b[0m\u001b[0;34m:\u001b[0m\u001b[0;34m\u001b[0m\u001b[0;34m\u001b[0m\u001b[0m\n",
      "\u001b[0m\n",
      "ipdb> u\n",
      "> \u001b[0;32m<ipython-input-48-df2d7bc66f9e>\u001b[0m(21)\u001b[0;36mget_next_larger\u001b[0;34m()\u001b[0m\n",
      "\u001b[0;32m     19 \u001b[0;31m    \u001b[0;32mdef\u001b[0m \u001b[0mget_next_larger\u001b[0m\u001b[0;34m(\u001b[0m\u001b[0mself\u001b[0m\u001b[0;34m,\u001b[0m \u001b[0mposition\u001b[0m\u001b[0;34m)\u001b[0m\u001b[0;34m:\u001b[0m\u001b[0;34m\u001b[0m\u001b[0;34m\u001b[0m\u001b[0m\n",
      "\u001b[0m\u001b[0;32m     20 \u001b[0;31m        \u001b[0;31m#x = self.coords.bisect_left(position)\u001b[0m\u001b[0;34m\u001b[0m\u001b[0;34m\u001b[0m\u001b[0;34m\u001b[0m\u001b[0m\n",
      "\u001b[0m\u001b[0;32m---> 21 \u001b[0;31m        \u001b[0mx\u001b[0m \u001b[0;34m=\u001b[0m \u001b[0mself\u001b[0m\u001b[0;34m.\u001b[0m\u001b[0mveb\u001b[0m\u001b[0;34m.\u001b[0m\u001b[0msuccessor\u001b[0m\u001b[0;34m(\u001b[0m\u001b[0mposition\u001b[0m\u001b[0;34m)\u001b[0m\u001b[0;34m\u001b[0m\u001b[0;34m\u001b[0m\u001b[0m\n",
      "\u001b[0m\u001b[0;32m     22 \u001b[0;31m        \u001b[0;32mif\u001b[0m \u001b[0mx\u001b[0m \u001b[0;34m==\u001b[0m \u001b[0;32mNone\u001b[0m\u001b[0;34m:\u001b[0m\u001b[0;34m\u001b[0m\u001b[0;34m\u001b[0m\u001b[0m\n",
      "\u001b[0m\u001b[0;32m     23 \u001b[0;31m            \u001b[0;32mreturn\u001b[0m \u001b[0;34m-\u001b[0m\u001b[0;36m1\u001b[0m\u001b[0;34m\u001b[0m\u001b[0;34m\u001b[0m\u001b[0m\n",
      "\u001b[0m\n",
      "ipdb> p posistion\n",
      "*** NameError: name 'posistion' is not defined\n",
      "ipdb> p position\n",
      "35987093\n",
      "ipdb> q\n"
     ]
    }
   ],
   "source": [
    "%debug"
   ]
  },
  {
   "cell_type": "code",
   "execution_count": null,
   "id": "renewable-january",
   "metadata": {},
   "outputs": [],
   "source": []
  }
 ],
 "metadata": {
  "kernelspec": {
   "display_name": "Python 3",
   "language": "python",
   "name": "python3"
  },
  "language_info": {
   "codemirror_mode": {
    "name": "ipython",
    "version": 3
   },
   "file_extension": ".py",
   "mimetype": "text/x-python",
   "name": "python",
   "nbconvert_exporter": "python",
   "pygments_lexer": "ipython3",
   "version": "3.8.5"
  }
 },
 "nbformat": 4,
 "nbformat_minor": 5
}
