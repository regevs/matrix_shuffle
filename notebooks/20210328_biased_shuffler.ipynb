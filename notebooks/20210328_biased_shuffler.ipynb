{
 "cells": [
  {
   "cell_type": "code",
   "execution_count": 5,
   "id": "running-exchange",
   "metadata": {},
   "outputs": [],
   "source": [
    "import numpy as np\n",
    "import seaborn as sns\n",
    "import pandas as pd\n",
    "import matplotlib.pyplot as plt\n",
    "\n",
    "import os.path\n",
    "import multiset\n",
    "import random\n",
    "import scipy.stats\n",
    "\n",
    "import tqdm.notebook\n",
    "import collections\n",
    "import sortedcontainers\n",
    "\n",
    "from statsmodels.distributions.empirical_distribution import ECDF"
   ]
  },
  {
   "cell_type": "code",
   "execution_count": 2,
   "id": "brief-correspondence",
   "metadata": {},
   "outputs": [],
   "source": [
    "orig_points = pd.read_csv(\"/Users/regevschweiger/Documents/matshuff_data/ela_19/points.txt\", sep=\"\\s+\")\n",
    "counts = pd.read_csv(\"/Users/regevschweiger/Documents/matshuff_data/ela_19/counts.txt\", sep=\"\\s+\")\n",
    "min_dist = counts.value.iloc[1]"
   ]
  },
  {
   "cell_type": "code",
   "execution_count": 3,
   "id": "unavailable-lesbian",
   "metadata": {},
   "outputs": [
    {
     "data": {
      "text/plain": [
       "Text(0, 0.5, 'Count')"
      ]
     },
     "execution_count": 3,
     "metadata": {},
     "output_type": "execute_result"
    },
    {
     "data": {
      "image/png": "[encoded data removed]",
      "text/plain": [
       "<Figure size 720x432 with 1 Axes>"
      ]
     },
     "metadata": {
      "needs_background": "light"
     },
     "output_type": "display_data"
    }
   ],
   "source": [
    "plt.figure(figsize=(10,6))\n",
    "plt.plot(\n",
    "    counts.value,\n",
    "    counts.p,\n",
    "    '.',\n",
    "    ms=2\n",
    ")\n",
    "plt.xscale(\"log\")\n",
    "plt.yscale(\"log\")\n",
    "plt.xlabel(\"Coordinate\")\n",
    "plt.ylabel(\"Count\")"
   ]
  },
  {
   "cell_type": "code",
   "execution_count": null,
   "id": "correct-twins",
   "metadata": {},
   "outputs": [],
   "source": [
    "# class CoordinateMapper(object):\n",
    "#     def __init__(self, points):\n",
    "#         # List of all current coords        \n",
    "#         self.coords = points.ravel()\n",
    "#         self.max = self.coords.max()\n",
    "                \n",
    "#         # Inverse multimap\n",
    "#         self.inverse_map = [[] for i in tqdm.notebook.trange(self.max+1)]\n",
    "#         for i, coord in enumerate(tqdm.notebook.tqdm(self.coords)):\n",
    "#             self.inverse_map[coord].append(i)\n",
    "        \n",
    "#         # Pointers to next larger\n",
    "#         self.next_larger = np.zeros(self.max+1, dtype=int)\n",
    "#         last = -1\n",
    "#         for i in tqdm.notebook.trange(self.max, -1, -1):\n",
    "#             if len(self.inverse_map[i]) == 0:\n",
    "#                 self.next_larger[i] = last\n",
    "#             else:\n",
    "#                 self.next_larger[i] = i\n",
    "#                 last = i\n",
    "                \n",
    "#         # Pointers to next smaller\n",
    "#         self.next_smaller = np.zeros(self.max+1, dtype=int)\n",
    "#         last = -1\n",
    "#         for i in tqdm.notebook.trange(self.max+1):\n",
    "#             if len(self.inverse_map[i]) == 0:\n",
    "#                 self.next_smaller[i] = last\n",
    "#             else:\n",
    "#                 self.next_smaller[i] = i\n",
    "#                 last = i\n",
    "    \n",
    "#     def sample_coordinate(self):\n",
    "#         return random.choice(self.coords)\n",
    "    \n",
    "#     def remove(self, coordinate):\n",
    "#         # Update inverse map and coords\n",
    "#         assert len(self.inverse_map[coordinate]) > 0\n",
    "#         pos = self.inverse_map[coordinate].pop()\n",
    "        \n",
    "#         if pos == len(self.coords)-1:\n",
    "#             self.coords = self.coords[:-1]\n",
    "#         else:\n",
    "#             lst = self.inverse_map[self.coords[-1]]\n",
    "#             lst.pop(lst.index(len(self.coords)-1))\n",
    "#             lst.append(pos)\n",
    "            \n",
    "#             self.coords[pos] = self.coords[-1]\n",
    "#             self.coords = self.coords[:-1]\n",
    "            \n",
    "#         # Update next larger and next smaller\n",
    "#         if len(self.inverse_map[coordinate]) == 0:\n",
    "#             # Next larger\n",
    "#             if coordinate+1 <= self.max:\n",
    "#                 next_ptr = self.next_larger[coordinate+1]\n",
    "#             else:\n",
    "#                 next_ptr = -1\n",
    "            \n",
    "#             pos = coordinate\n",
    "#             while pos >= 0 and self.next_larger[pos] == coordinate:\n",
    "#                 self.next_larger[pos] = next_ptr\n",
    "#                 pos -= 1\n",
    "                \n",
    "#             # Next smaller\n",
    "#             if coordinate-1 >= 0:\n",
    "#                 next_ptr = self.next_smaller[coordinate-1]\n",
    "#             else:\n",
    "#                 next_ptr = -1\n",
    "            \n",
    "#             pos = coordinate\n",
    "#             while pos <= self.max and self.next_smaller[pos] == coordinate:\n",
    "#                 self.next_smaller[pos] = next_ptr\n",
    "#                 pos += 1\n",
    "            \n",
    "    \n",
    "#     def get_next_larger(self, position):\n",
    "#         return self.next_larger[position]\n",
    "    \n",
    "#     def get_next_smaller(self, position):\n",
    "#         return self.next_smaller[position]"
   ]
  },
  {
   "cell_type": "code",
   "execution_count": 95,
   "id": "decreased-sequence",
   "metadata": {},
   "outputs": [],
   "source": [
    "class SortedCoordinateMapper(object):\n",
    "    def __init__(self, points):\n",
    "        self.max = np.array(points).max()        \n",
    "        self.coords = sortedcontainers.SortedList(np.array(points).ravel())\n",
    "        self.n_coords = len(self.coords)\n",
    "    \n",
    "    def sample_coordinate(self):\n",
    "        return self.coords[np.random.choice(len(self.coords))]\n",
    "    \n",
    "    def remove(self, coordinate):\n",
    "        self.coords.remove(coordinate)\n",
    "    \n",
    "    def get_next_larger(self, position):\n",
    "        x = self.coords.bisect_left(position)\n",
    "        if x == len(self.coords):\n",
    "            return -1\n",
    "        else:\n",
    "            return self.coords[x]\n",
    "    \n",
    "    def get_next_smaller(self, position):\n",
    "        x = self.coords.bisect_right(position)\n",
    "        if x == 0:\n",
    "            return -1\n",
    "        else:\n",
    "            return self.coords[x-1]\n",
    "    \n",
    "# small_points = (orig_points.values).astype(int)\n",
    "# CM = SortedCoordinateMapper(small_points)"
   ]
  },
  {
   "cell_type": "code",
   "execution_count": 96,
   "id": "electronic-stretch",
   "metadata": {},
   "outputs": [],
   "source": [
    "class DiagonalSampler(object):\n",
    "    def __init__(self, points, min_dist):\n",
    "        self.n_points = points.shape[0]\n",
    "        self.diagonals = np.abs(np.diff(points, axis=1)).astype(int).ravel()\n",
    "        self.mapper = SortedCoordinateMapper(points.astype(int))\n",
    "        self.max = self.mapper.max\n",
    "        self.min_dist = min_dist\n",
    "        \n",
    "    def build(self):\n",
    "        new_points = []\n",
    "        \n",
    "        for n_point in tqdm.notebook.trange(self.n_points):            \n",
    "            best_y = np.inf\n",
    "            \n",
    "            while True:\n",
    "                x = self.mapper.sample_coordinate()\n",
    "                d = random.choice(self.diagonals)\n",
    "\n",
    "\n",
    "\n",
    "                candidates = []\n",
    "                if x+d <= self.max:\n",
    "                    candidates.extend([self.mapper.get_next_larger(x+d), self.mapper.get_next_smaller(x+d)])\n",
    "                if 0<= x-d:\n",
    "                    candidates.extend([self.mapper.get_next_larger(x-d), self.mapper.get_next_smaller(x-d)])\n",
    "                    \n",
    "                random.shuffle(candidates)\n",
    "\n",
    "                for y in candidates:\n",
    "                    if y != -1 and \\\n",
    "                        y != x and \\\n",
    "                        np.abs(np.abs(y-x)-d) < np.abs(np.abs(best_y-x)-d):\n",
    "                        best_y = y\n",
    "                    \n",
    "                if best_y != np.inf:\n",
    "                    break\n",
    "                    \n",
    "            assert best_y in self.mapper.coords\n",
    "            new_points.append(list(sorted([x, best_y])))\n",
    "            self.mapper.remove(x)\n",
    "            self.mapper.remove(best_y)\n",
    "            \n",
    "        self.new_points = np.array(new_points)\n",
    "    \n",
    "    def fix(self):\n",
    "        for n_point in tqdm.notebook.trange(self.n_points):\n",
    "            while np.abs(self.new_points[n_point, 1] - self.new_points[n_point, 0]) < self.min_dist:\n",
    "                j = np.random.choice(self.n_points)\n",
    "                if np.abs(self.new_points[n_point, 0] - self.new_points[j, 1]) >= self.min_dist and \\\n",
    "                    np.abs(self.new_points[n_point, 1] - self.new_points[j, 0]) >= self.min_dist:\n",
    "                    self.new_points[n_point, 1], self.new_points[j, 1] = self.new_points[j, 1], self.new_points[n_point, 1]\n",
    "\n",
    "\n",
    "        \n",
    "    \n",
    "    \n",
    "    \n"
   ]
  },
  {
   "cell_type": "code",
   "execution_count": 97,
   "id": "german-mortgage",
   "metadata": {},
   "outputs": [
    {
     "data": {
      "application/vnd.jupyter.widget-view+json": {
       "model_id": "98a4492d45974c81b9fa78d8f4e2660a",
       "version_major": 2,
       "version_minor": 0
      },
      "text/plain": [
       "  0%|          | 0/5018224 [00:00<?, ?it/s]"
      ]
     },
     "metadata": {},
     "output_type": "display_data"
    },
    {
     "data": {
      "application/vnd.jupyter.widget-view+json": {
       "model_id": "27b70bdce5044bcf87bece82e9b85d64",
       "version_major": 2,
       "version_minor": 0
      },
      "text/plain": [
       "  0%|          | 0/5018224 [00:00<?, ?it/s]"
      ]
     },
     "metadata": {},
     "output_type": "display_data"
    }
   ],
   "source": [
    "small_points = (orig_points.values[:, :]).astype(int)\n",
    "DS = DiagonalSampler(small_points, 1024)\n",
    "\n",
    "DS.build()\n",
    "DS.fix()"
   ]
  },
  {
   "cell_type": "code",
   "execution_count": 102,
   "id": "prospective-marker",
   "metadata": {},
   "outputs": [
    {
     "data": {
      "text/plain": [
       "1024"
      ]
     },
     "execution_count": 102,
     "metadata": {},
     "output_type": "execute_result"
    }
   ],
   "source": [
    "np.abs(np.diff(DS.new_points, axis=1)).min()"
   ]
  },
  {
   "cell_type": "code",
   "execution_count": 100,
   "id": "composed-given",
   "metadata": {},
   "outputs": [
    {
     "data": {
      "text/plain": [
       "True"
      ]
     },
     "execution_count": 100,
     "metadata": {},
     "output_type": "execute_result"
    }
   ],
   "source": [
    "collections.Counter(np.array(DS.new_points).ravel()) == collections.Counter(np.array(small_points).ravel())"
   ]
  },
  {
   "cell_type": "code",
   "execution_count": 101,
   "id": "neither-vancouver",
   "metadata": {},
   "outputs": [
    {
     "data": {
      "text/plain": [
       "<matplotlib.legend.Legend at 0x17ebfc460>"
      ]
     },
     "execution_count": 101,
     "metadata": {},
     "output_type": "execute_result"
    },
    {
     "data": {
      "image/png": "[encoded data removed]",
      "text/plain": [
       "<Figure size 720x432 with 1 Axes>"
      ]
     },
     "metadata": {
      "needs_background": "light"
     },
     "output_type": "display_data"
    }
   ],
   "source": [
    "plt.figure(figsize=(10,6))\n",
    "plt.plot(\n",
    "    counts.value[:-1],\n",
    "    np.histogram(np.abs(np.diff(small_points, axis=1).ravel()), bins=counts.value, density=True)[0],\n",
    "    '.',\n",
    "    ms=2,\n",
    "    label=\"True counts\"\n",
    ")\n",
    "\n",
    "plt.plot(\n",
    "    counts.value[:-1],\n",
    "    np.histogram(np.abs(np.diff(DS.new_points, axis=1).ravel()), bins=counts.value, density=True)[0],\n",
    "    '.',\n",
    "    ms=2,\n",
    "    label=\"Shuffed counts\"\n",
    ")\n",
    "\n",
    "plt.xscale(\"log\")\n",
    "plt.yscale(\"log\")\n",
    "plt.xlabel(\"Coordinate\")\n",
    "plt.ylabel(\"Count\")\n",
    "plt.legend()"
   ]
  },
  {
   "cell_type": "code",
   "execution_count": 106,
   "id": "dirty-breach",
   "metadata": {},
   "outputs": [],
   "source": [
    "pd.DataFrame(DS.new_points, columns=[\"start1\", \"start2\"])\\\n",
    "    .to_csv(\"/Users/regevschweiger/Documents/matshuff_data/ela_19/points_magic_shuffled_20210330.txt\", sep=\"\\t\", index=False)"
   ]
  },
  {
   "cell_type": "code",
   "execution_count": 12,
   "id": "therapeutic-second",
   "metadata": {},
   "outputs": [],
   "source": []
  },
  {
   "cell_type": "code",
   "execution_count": null,
   "id": "soviet-mainland",
   "metadata": {},
   "outputs": [],
   "source": []
  }
 ],
 "metadata": {
  "kernelspec": {
   "display_name": "Python 3",
   "language": "python",
   "name": "python3"
  },
  "language_info": {
   "codemirror_mode": {
    "name": "ipython",
    "version": 3
   },
   "file_extension": ".py",
   "mimetype": "text/x-python",
   "name": "python",
   "nbconvert_exporter": "python",
   "pygments_lexer": "ipython3",
   "version": "3.8.5"
  }
 },
 "nbformat": 4,
 "nbformat_minor": 5
}
