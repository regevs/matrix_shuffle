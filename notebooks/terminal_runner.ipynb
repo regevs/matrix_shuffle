{
 "cells": [
  {
   "cell_type": "code",
   "execution_count": 16,
   "id": "hungry-criterion",
   "metadata": {},
   "outputs": [
    {
     "name": "stdout",
     "output_type": "stream",
     "text": [
      "Process is interrupted.\n"
     ]
    }
   ],
   "source": [
    "/Users/regevschweiger/git/matrix_shuffle/bin/matrix_shuffle_all \\\n",
    "    --points_filename=/Users/regevschweiger/Documents/matshuff_data/ela_19/points.txt \\\n",
    "    --counts_filename=/Users/regevschweiger/Documents/matshuff_data/ela_19/counts.txt \\\n",
    "    --dcounts_filename=/Users/regevschweiger/Documents/matshuff_data/ela_19/dcounts.txt \\\n",
    "    --output_dir=/Users/regevschweiger/git/matrix_shuffle/datasets/ela_chr19/run_20210318_testme \\\n",
    "    --seed=5 \\\n",
    "    --min_dist=1024 \\\n",
    "    --n_iters=100000000000 \\\n",
    "    --output_every=0 \\\n",
    "    --output_txt=true \\\n",
    "    --skip_header=true \\\n",
    "    --rate_every=1000000 \\\n",
    "    --shuffle=true \\\n",
    "    --mode=mh\n",
    "\n",
    "    --srf_n0=100000 \\\n",
    "    --srf_every=10000 \\\n",
    "    --srf_exponent=0.1\n",
    "    "
   ]
  },
  {
   "cell_type": "code",
   "execution_count": 10,
   "id": "departmental-contemporary",
   "metadata": {},
   "outputs": [
    {
     "name": "stdout",
     "output_type": "stream",
     "text": [
      "total 173144\r\n",
      "-rw-r--r--  1 regevschweiger  staff    106870 Feb 17 21:22 counts.txt\r\n",
      "-rw-r--r--  1 regevschweiger  staff    119004 Feb 17 21:22 dcounts.txt\r\n",
      "-rw-r--r--  1 regevschweiger  staff  88414046 Feb 17 21:25 points.txt\r\n"
     ]
    }
   ],
   "source": [
    "!ls -l /Users/regevschweiger/Documents/matshuff_data/ela_19/\n"
   ]
  },
  {
   "cell_type": "code",
   "execution_count": null,
   "id": "funded-junior",
   "metadata": {},
   "outputs": [],
   "source": []
  }
 ],
 "metadata": {
  "kernelspec": {
   "display_name": "Python 3",
   "language": "python",
   "name": "python3"
  },
  "language_info": {
   "codemirror_mode": {
    "name": "ipython",
    "version": 3
   },
   "file_extension": ".py",
   "mimetype": "text/x-python",
   "name": "python",
   "nbconvert_exporter": "python",
   "pygments_lexer": "ipython3",
   "version": "3.8.5"
  }
 },
 "nbformat": 4,
 "nbformat_minor": 5
}
